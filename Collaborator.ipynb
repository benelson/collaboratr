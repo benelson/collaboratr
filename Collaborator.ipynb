{
 "cells": [
  {
   "cell_type": "code",
   "execution_count": 1,
   "metadata": {
    "collapsed": false
   },
   "outputs": [],
   "source": [
    "%matplotlib inline\n",
    "from __future__ import division\n",
    "\n",
    "import matplotlib.pyplot as plt\n",
    "import networkx as nx\n",
    "import pandas as pd\n",
    "import numpy as np\n",
    "from operator import truediv\n",
    "from nxpd import draw\n",
    "from collections import Counter\n",
    "import itertools\n",
    "import random"
   ]
  },
  {
   "cell_type": "code",
   "execution_count": 10,
   "metadata": {
    "collapsed": false
   },
   "outputs": [],
   "source": [
    "BREAKOUT_REQ_RATIO = 2\n",
    "BREAKOUT_REQ_FRACTION = 0.2\n",
    "G = nx.DiGraph()"
   ]
  },
  {
   "cell_type": "code",
   "execution_count": 11,
   "metadata": {
    "collapsed": false
   },
   "outputs": [],
   "source": [
    "def insert_node(name, email, learn, teach):\n",
    "    G.add_node(name, email=email, learn=learn, teach=teach)\n",
    "    \n",
    "    for node in G.nodes(data=True):\n",
    "        learn_other = node[1]['learn']\n",
    "        teach_other = node[1]['teach']\n",
    "        \n",
    "        common = [l for l in learn if l in teach_other]\n",
    "        w = len(common)\n",
    "        G.add_edge(name, node[0], weight=w, common=common)\n",
    "        \n",
    "        common = [l for l in teach if l in learn_other]\n",
    "        w = len(common)\n",
    "        G.add_edge(node[0], name, weight=w, common=common)"
   ]
  },
  {
   "cell_type": "code",
   "execution_count": 12,
   "metadata": {
    "collapsed": false
   },
   "outputs": [],
   "source": [
    "# Retrieve data from Google Sheet and parse using pandas dataframe\n",
    "data = pd.read_csv(\"https://raw.githubusercontent.com/benelson/collaboratr/master/collaboratr.csv\")\n",
    "data = data.replace(np.nan,' ', regex=True)\n",
    "users = data['1. What is your name?']\n",
    "emails = data['2. What is your email?']\n",
    "teach = data['3. What can you help others with?']\n",
    "learn = data['4. What do you want to collaborate on or learn about?']"
   ]
  },
  {
   "cell_type": "markdown",
   "metadata": {},
   "source": [
    "## Decision Tree"
   ]
  },
  {
   "cell_type": "code",
   "execution_count": 17,
   "metadata": {
    "collapsed": false
   },
   "outputs": [],
   "source": [
    "def find_breakouts(teach, learn):\n",
    "    \"\"\"\n",
    "    Find subjects which deserve breakouts depending \n",
    "    on student to teach ratios.\n",
    "    \"\"\"\n",
    "    big_list_teach = []\n",
    "    for i in range(len(teach)):\n",
    "        big_list_teach.append(teach[i].split(';'))\n",
    "\n",
    "    big_list_learn = []\n",
    "    for i in range(len(learn)):\n",
    "        big_list_learn.append(learn[i].split(';'))\n",
    "        \n",
    "    teach_dict = dict(Counter(list((itertools.chain.from_iterable(big_list_teach)))))\n",
    "    learn_dict = dict(Counter(list((itertools.chain.from_iterable(big_list_learn)))))\n",
    "    \n",
    "    common_names = [ n for n in set(teach_dict).intersection(set(learn_dict)) ]\n",
    "\n",
    "    teach_dict = {k:teach_dict[k] for k in common_names if k in teach_dict} # Python3\n",
    "    learn_dict = {k:learn_dict[k] for k in common_names if k in learn_dict} # Python3\n",
    "    \n",
    "    N_teach = list(teach_dict.values())\n",
    "    N_learn = list(learn_dict.values())\n",
    "    \n",
    "    ratios =  list(map(truediv,N_learn,N_teach))\n",
    "\n",
    "    N = len(users)\n",
    "    subjects = list(teach_dict.keys())\n",
    "    isBreakout = (np.array(ratios) > BREAKOUT_REQ_RATIO) & (np.array(N_learn) > BREAKOUT_REQ_FRACTION*N)\n",
    "    breakouts = np.array(subjects)[list(np.where(isBreakout)[0])]\n",
    "    \n",
    "    return list(breakouts)"
   ]
  },
  {
   "cell_type": "code",
   "execution_count": 23,
   "metadata": {
    "collapsed": false
   },
   "outputs": [],
   "source": [
    "breakouts = find_breakouts(teach,learn)"
   ]
  },
  {
   "cell_type": "markdown",
   "metadata": {},
   "source": [
    "## Graphs"
   ]
  },
  {
   "cell_type": "code",
   "execution_count": 24,
   "metadata": {
    "collapsed": false
   },
   "outputs": [],
   "source": [
    "# Insert users in graphs\n",
    "for u,e,l,t in zip(users, emails, learn, teach):\n",
    "    insert_node(u, email=e, learn=l.split(';'), teach=t.split(';'))"
   ]
  },
  {
   "cell_type": "code",
   "execution_count": 25,
   "metadata": {
    "collapsed": false
   },
   "outputs": [],
   "source": [
    "participants = G.nodes(data=True)"
   ]
  },
  {
   "cell_type": "code",
   "execution_count": 26,
   "metadata": {
    "collapsed": false
   },
   "outputs": [],
   "source": [
    "def assign_users():\n",
    "    \"\"\"\n",
    "    This uses LOTS of nested loops. Work to be done here.\n",
    "    \"\"\"\n",
    "    assign = {}\n",
    "    i=0\n",
    "    for p in participants:\n",
    "        assign_p = {}\n",
    "        for l in p[1]['learn']:\n",
    "            if l in breakouts:\n",
    "                assign_p[l] = 'breakout'\n",
    "            else:\n",
    "                edges = G.edges(p[0], data=True)\n",
    "                common = []\n",
    "                \n",
    "                for e in edges:\n",
    "                    if (l in e[2]['common']) and (l!=''):\n",
    "                        common.append(e[1])\n",
    "                    else: \n",
    "                        pass\n",
    "                \n",
    "                if common != []:\n",
    "                    assign_p[l] = random.choice(common)   \n",
    "                \n",
    "        assign[p[0]] = assign_p\n",
    "        i+=1\n",
    "        \n",
    "    return assign"
   ]
  },
  {
   "cell_type": "code",
   "execution_count": 27,
   "metadata": {
    "collapsed": false
   },
   "outputs": [],
   "source": [
    "assign = assign_users()"
   ]
  },
  {
   "cell_type": "code",
   "execution_count": 28,
   "metadata": {
    "collapsed": false
   },
   "outputs": [],
   "source": [
    "G_new = nx.DiGraph(bgcolor='white')"
   ]
  },
  {
   "cell_type": "code",
   "execution_count": 29,
   "metadata": {
    "collapsed": false
   },
   "outputs": [],
   "source": [
    "G_new.add_nodes_from(participants, style='filled', fillcolor='black', \n",
    "                     fontcolor='white', fontname='sans-serif', fontsize=24)\n",
    "G_new.add_node('breakout', shape='rectangle', width=4, height=1, style='filled', fillcolor='black',\n",
    "              fontcolor='white', fontname='sans-serif', fontsize=30)"
   ]
  },
  {
   "cell_type": "code",
   "execution_count": 30,
   "metadata": {
    "collapsed": false
   },
   "outputs": [],
   "source": [
    "for p in G.nodes():\n",
    "    mappings = assign[p]\n",
    "    for m in mappings.keys():\n",
    "        G_new.add_edge(p, mappings[m], label=m, style='dotted', fontcolor='red', fontsize=20,\n",
    "                      fontname='sans-serif')"
   ]
  },
  {
   "cell_type": "code",
   "execution_count": 31,
   "metadata": {
    "collapsed": false
   },
   "outputs": [
    {
     "data": {
      "text/plain": [
       "'Resources/0.svg'"
      ]
     },
     "execution_count": 31,
     "metadata": {},
     "output_type": "execute_result"
    }
   ],
   "source": [
    "draw(G_new, filename='Resources/0.svg')"
   ]
  },
  {
   "cell_type": "markdown",
   "metadata": {},
   "source": [
    "# Customized Graphs"
   ]
  },
  {
   "cell_type": "code",
   "execution_count": 202,
   "metadata": {
    "collapsed": false
   },
   "outputs": [],
   "source": [
    "participants = G_new.nodes()\n",
    "connections = G_new.edges(data=True)"
   ]
  },
  {
   "cell_type": "code",
   "execution_count": 203,
   "metadata": {
    "collapsed": false
   },
   "outputs": [],
   "source": [
    "index=1\n",
    "for p in participants:\n",
    "    con = [c for c in connections if c[0] == p]\n",
    "    links = [c[1] for c in con]\n",
    "    links.append(p)\n",
    "\n",
    "    H = nx.DiGraph()\n",
    "    H.add_nodes_from(links, style='filled', fillcolor='black', \n",
    "                         fontcolor='white', fontname='sans-serif', fontsize=24)\n",
    "\n",
    "    for c in con:\n",
    "        H.add_edge(c[0], c[1], label=c[2]['label'], style='dotted', fontcolor='red', fontsize=12,\n",
    "                          fontname='sans-serif')\n",
    "\n",
    "    draw(H, filename='Resources/'+str(index)+'.svg')\n",
    "    index+=1"
   ]
  },
  {
   "cell_type": "code",
   "execution_count": 204,
   "metadata": {
    "collapsed": false
   },
   "outputs": [],
   "source": [
    "obj = {}\n",
    "obj['index'] = index\n",
    "obj['participants'] = [p.split(' ')[0] for p in participants]"
   ]
  },
  {
   "cell_type": "markdown",
   "metadata": {},
   "source": [
    "# Creating a Web Page"
   ]
  },
  {
   "cell_type": "code",
   "execution_count": 205,
   "metadata": {
    "collapsed": false
   },
   "outputs": [],
   "source": [
    "from jinja2 import Template"
   ]
  },
  {
   "cell_type": "code",
   "execution_count": 226,
   "metadata": {
    "collapsed": false
   },
   "outputs": [],
   "source": [
    "# Define jinja2 template\n",
    "TEMPLATE1 = Template(\"\"\"<html><head><link rel=\"stylesheet\" href=\"http://maxcdn.bootstrapcdn.com/bootstrap/3.3.7/css/bootstrap.min.css\">\n",
    "\n",
    "<!-- jQuery library -->\n",
    "<script src=\"https://ajax.googleapis.com/ajax/libs/jquery/1.12.4/jquery.min.js\"></script>\n",
    "\n",
    "<!-- Latest compiled JavaScript -->\n",
    "<script src=\"http://maxcdn.bootstrapcdn.com/bootstrap/3.3.7/js/bootstrap.min.js\"></script></head>\n",
    "<body>\n",
    "<nav class=\"navbar navbar-default\">\n",
    "  <div class=\"container-fluid\">\n",
    "    <div class=\"navbar-header\">\n",
    "      <a class=\"navbar-brand\" href=\"#\">Collaboratr</a>\n",
    "    </div>\n",
    "    <ul class=\"nav navbar-nav\">\n",
    "      <li class=\"active\"><a href=\"#\">Home</a></li>\n",
    "      <li><a href=\"#0\">Overall</a></li>\n",
    "      {% for p in obj.participants%}\n",
    "          <li><a href=\"#{{loop.index}}\">{{p}}</a></li> \n",
    "      {% endfor %}\n",
    "    </ul>\n",
    "  </div>\n",
    "</nav>\n",
    "        \n",
    "{% for i in range(0,obj.index)%}<a name=\"{{i}}\"><br><br><br><br><br><br><center><img src=\"Resources/{{i}}.svg\" align=\"middle\"></center>{% endfor %}<script src=\"jquery/jquery-2.0.3.min.js\"></script>\n",
    "</body>\n",
    "</html>\"\"\")"
   ]
  },
  {
   "cell_type": "code",
   "execution_count": 227,
   "metadata": {
    "collapsed": false
   },
   "outputs": [],
   "source": [
    "with open('display.html', 'w') as file:\n",
    "    file.write(TEMPLATE1.render(obj=obj))"
   ]
  },
  {
   "cell_type": "markdown",
   "metadata": {},
   "source": [
    "# Breakout Visualizations"
   ]
  },
  {
   "cell_type": "code",
   "execution_count": 276,
   "metadata": {
    "collapsed": false
   },
   "outputs": [],
   "source": [
    "participants = G.nodes(data=True)\n",
    "\n",
    "objs = []\n",
    "for b in breakouts:\n",
    "    learn = []\n",
    "    teach = []\n",
    "    \n",
    "    for p in participants:\n",
    "        if b in p[1]['learn']:\n",
    "            learn.append(p[0].split(' ')[0])\n",
    "            \n",
    "        if b in p[1]['teach']:\n",
    "            teach.append(p[0].split(' ')[0])\n",
    "       \n",
    "    \n",
    "    learn = ', '.join(learn)\n",
    "    teach = ', '.join(teach)\n",
    "    o = {}\n",
    "    o['learn'] = learn\n",
    "    o['teach'] = teach\n",
    "    o['name'] = b\n",
    "    \n",
    "    objs.append(o)"
   ]
  },
  {
   "cell_type": "code",
   "execution_count": 279,
   "metadata": {
    "collapsed": false
   },
   "outputs": [],
   "source": [
    "# Define jinja2 template\n",
    "TEMPLATE2 = Template(\"\"\"<html><head><head><link rel=\"stylesheet\" href=\"http://maxcdn.bootstrapcdn.com/bootstrap/3.3.7/css/bootstrap.min.css\">\n",
    "\n",
    "<!-- jQuery library -->\n",
    "<script src=\"https://ajax.googleapis.com/ajax/libs/jquery/1.12.4/jquery.min.js\"></script>\n",
    "\n",
    "<!-- Latest compiled JavaScript -->\n",
    "<script src=\"http://maxcdn.bootstrapcdn.com/bootstrap/3.3.7/js/bootstrap.min.js\"></script></head>\n",
    "<div class=\"container\">\n",
    "  <h2>Breakouts Table</h2>\n",
    "  <table class=\"table\">\n",
    "    <thead>\n",
    "      <tr>\n",
    "        <th>Subjects</th>\n",
    "        <th>Learners</th>\n",
    "        <th>Teachers</th>\n",
    "      </tr>\n",
    "    </thead>\n",
    "    <tbody>\n",
    "    {% for i in objs%}\n",
    "      <tr>\n",
    "        <td>{{i.name}}</td>\n",
    "        <td>{{i.learn}}</td>\n",
    "        <td>{{i.teach}}</td>\n",
    "      </tr>\n",
    "    {% endfor %}\n",
    "    </tbody>\n",
    "  </table>\n",
    "</div>\n",
    "<script src=\"jquery/jquery-2.0.3.min.js\"></script>\n",
    "</body>\n",
    "</html>\"\"\")"
   ]
  },
  {
   "cell_type": "code",
   "execution_count": 280,
   "metadata": {
    "collapsed": false
   },
   "outputs": [],
   "source": [
    "with open('breakouts.html', 'w') as file:\n",
    "    file.write(TEMPLATE2.render(objs=objs))"
   ]
  }
 ],
 "metadata": {
  "kernelspec": {
   "display_name": "Python 2",
   "language": "python",
   "name": "python2"
  },
  "language_info": {
   "codemirror_mode": {
    "name": "ipython",
    "version": 2
   },
   "file_extension": ".py",
   "mimetype": "text/x-python",
   "name": "python",
   "nbconvert_exporter": "python",
   "pygments_lexer": "ipython2",
   "version": "2.7.12"
  }
 },
 "nbformat": 4,
 "nbformat_minor": 0
}
