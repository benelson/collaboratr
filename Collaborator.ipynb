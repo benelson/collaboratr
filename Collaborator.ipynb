{
 "cells": [
  {
   "cell_type": "code",
   "execution_count": 116,
   "metadata": {
    "collapsed": false
   },
   "outputs": [],
   "source": [
    "%matplotlib inline\n",
    "from __future__ import division\n",
    "\n",
    "import matplotlib.pyplot as plt\n",
    "import networkx as nx\n",
    "import pandas as pd\n",
    "import numpy as np\n",
    "from operator import truediv\n",
    "from nxpd import draw\n",
    "from collections import Counter\n",
    "import itertools"
   ]
  },
  {
   "cell_type": "code",
   "execution_count": 117,
   "metadata": {
    "collapsed": false
   },
   "outputs": [],
   "source": [
    "G = nx.DiGraph()"
   ]
  },
  {
   "cell_type": "code",
   "execution_count": 118,
   "metadata": {
    "collapsed": false
   },
   "outputs": [],
   "source": [
    "def insert_node(name, email, learn, teach):\n",
    "    G.add_node(name, email=email, learn=learn, teach=teach)\n",
    "    \n",
    "    for node in G.nodes(data=True):\n",
    "        learn_other = node[1]['learn']\n",
    "        teach_other = node[1]['teach']\n",
    "        \n",
    "        common = [l for l in learn if l in teach_other]\n",
    "        w = len(common)\n",
    "        G.add_edge(name, node[0], weight=w, common=common)\n",
    "        \n",
    "        common = [l for l in teach if l in learn_other]\n",
    "        w = len(common)\n",
    "        G.add_edge(node[0], name, weight=w, common=common)"
   ]
  },
  {
   "cell_type": "code",
   "execution_count": 119,
   "metadata": {
    "collapsed": false
   },
   "outputs": [],
   "source": [
    "# Retrieve data from Google Sheet and parse using pandas dataframe\n",
    "data = pd.read_csv(\"https://raw.githubusercontent.com/benelson/collaboratr/master/collaboratr.csv\")\n",
    "data = data.replace(np.nan,' ', regex=True)\n",
    "users = data['1. What is your name?']\n",
    "emails = data['2. What is your email?']\n",
    "teach = data['3. What can you help others with?']\n",
    "learn = data['4. What do you want to collaborate on or learn about?']"
   ]
  },
  {
   "cell_type": "markdown",
   "metadata": {},
   "source": [
    "## Decision Tree"
   ]
  },
  {
   "cell_type": "code",
   "execution_count": 146,
   "metadata": {
    "collapsed": false
   },
   "outputs": [],
   "source": [
    "def find_breakouts(teach, learn):\n",
    "    \"\"\"\n",
    "    Find subjects which deserve breakouts depending \n",
    "    on student to teach ratios.\n",
    "    \"\"\"\n",
    "    big_list = []\n",
    "    for i in range(len(teach)):\n",
    "        big_list.append(teach[i].split(';'))\n",
    "\n",
    "    big_list1 = []\n",
    "    for i in range(len(learn)):\n",
    "        big_list1.append(learn[i].split(';'))\n",
    "        \n",
    "    all_teach = list((itertools.chain.from_iterable(big_list)))\n",
    "    N_teach = Counter(all_teach).values()\n",
    "    \n",
    "    all_learn = list((itertools.chain.from_iterable(big_list1)))\n",
    "    N_learn = Counter(all_learn).values()\n",
    "    \n",
    "    ratios =  map(truediv,N_learn,N_teach[:-3])\n",
    "    \n",
    "    breakout_pct = .2\n",
    "    N = len(users)\n",
    "    subjects = Counter(all_teach).keys()\n",
    "    isBreakout = (np.array(ratios) > 2) & (np.array(N_learn > breakout_pct*N))\n",
    "    \n",
    "    breakouts = np.array(subjects)[list(np.where(isBreakout)[0])]\n",
    "    \n",
    "    return breakouts"
   ]
  },
  {
   "cell_type": "code",
   "execution_count": 147,
   "metadata": {
    "collapsed": false
   },
   "outputs": [
    {
     "data": {
      "text/plain": [
       "array(['HTML5, CSS, javascript,GitHub pages', 'stochastic gradient',\n",
       "       'Bayes', ' fisher matrices', 'GAIA DRI', 'science communication',\n",
       "       'R', 'Fourier Analysis', 'sphinx'], \n",
       "      dtype='|S35')"
      ]
     },
     "execution_count": 147,
     "metadata": {},
     "output_type": "execute_result"
    }
   ],
   "source": [
    "breakouts = find_breakouts(teach, learn)\n",
    "breakouts"
   ]
  },
  {
   "cell_type": "markdown",
   "metadata": {},
   "source": [
    "## Graphs"
   ]
  },
  {
   "cell_type": "code",
   "execution_count": 148,
   "metadata": {
    "collapsed": false
   },
   "outputs": [],
   "source": [
    "for u,e,l,t in zip(users, emails, learn, teach):\n",
    "    insert_node(u, email=e, learn=l.split(';'), teach=t.split(';'))"
   ]
  },
  {
   "cell_type": "code",
   "execution_count": 149,
   "metadata": {
    "collapsed": false
   },
   "outputs": [],
   "source": [
    "participants = G.nodes(data=True)"
   ]
  },
  {
   "cell_type": "code",
   "execution_count": 150,
   "metadata": {
    "collapsed": false
   },
   "outputs": [],
   "source": [
    "def assign_users():\n",
    "    \"\"\"\n",
    "    This uses LOTS of nested loops. Work to be done here.\n",
    "    \"\"\"\n",
    "    assign = {}\n",
    "    i=0\n",
    "    for p in participants:\n",
    "        assign_p = {}\n",
    "        for l in p[1]['learn']:\n",
    "            if l in breakouts:\n",
    "                assign_p[l] = 'breakout'\n",
    "            else:\n",
    "                edges = G.edges(p[0], data=True)\n",
    "                for e in edges:\n",
    "                    if (l in e[2]['common']) and (l!=''):\n",
    "                        assign_p[l] = e[1]\n",
    "                    else: \n",
    "                        pass\n",
    "        assign[p[0]] = assign_p\n",
    "        i+=1\n",
    "        \n",
    "    return assign"
   ]
  },
  {
   "cell_type": "code",
   "execution_count": 151,
   "metadata": {
    "collapsed": false
   },
   "outputs": [],
   "source": [
    "assign = assign_users()"
   ]
  },
  {
   "cell_type": "code",
   "execution_count": 152,
   "metadata": {
    "collapsed": false
   },
   "outputs": [],
   "source": [
    "G_new = nx.DiGraph(bgcolor='white')"
   ]
  },
  {
   "cell_type": "code",
   "execution_count": 153,
   "metadata": {
    "collapsed": false
   },
   "outputs": [],
   "source": [
    "G_new.add_nodes_from(participants, style='filled', fillcolor='black', \n",
    "                     fontcolor='white', fontname='sans-serif', fontsize=24)\n",
    "G_new.add_node('breakout', shape='rectangle', width=4, height=1, style='filled', fillcolor='black',\n",
    "              fontcolor='white', fontname='sans-serif', fontsize=30)"
   ]
  },
  {
   "cell_type": "code",
   "execution_count": 154,
   "metadata": {
    "collapsed": false
   },
   "outputs": [],
   "source": [
    "for p in G.nodes():\n",
    "    mappings = assign[p]\n",
    "    for m in mappings.keys():\n",
    "        G_new.add_edge(p, mappings[m], label=m, style='dotted', fontcolor='red', fontsize=20,\n",
    "                      fontname='sans-serif')"
   ]
  },
  {
   "cell_type": "code",
   "execution_count": 158,
   "metadata": {
    "collapsed": false
   },
   "outputs": [
    {
     "data": {
      "text/plain": [
       "'0.svg'"
      ]
     },
     "execution_count": 158,
     "metadata": {},
     "output_type": "execute_result"
    }
   ],
   "source": [
    "draw(G_new, filename='0.svg')"
   ]
  },
  {
   "cell_type": "markdown",
   "metadata": {},
   "source": [
    "# Customized Graphs"
   ]
  },
  {
   "cell_type": "code",
   "execution_count": 161,
   "metadata": {
    "collapsed": false
   },
   "outputs": [],
   "source": [
    "participants = G_new.nodes()\n",
    "connections = G_new.edges(data=True)"
   ]
  },
  {
   "cell_type": "code",
   "execution_count": 166,
   "metadata": {
    "collapsed": false
   },
   "outputs": [],
   "source": [
    "index=1\n",
    "for p in participants:\n",
    "    con = [c for c in connections if c[0] == p]\n",
    "    links = [c[1] for c in con]\n",
    "    links.append(p)\n",
    "\n",
    "    H = nx.DiGraph()\n",
    "    H.add_nodes_from(links, style='filled', fillcolor='black', \n",
    "                         fontcolor='white', fontname='sans-serif', fontsize=24)\n",
    "\n",
    "    for c in con:\n",
    "        H.add_edge(c[0], c[1], label=c[2]['label'], style='dotted', fontcolor='red', fontsize=12,\n",
    "                          fontname='sans-serif')\n",
    "\n",
    "    draw(H, filename=str(index)+'.svg')\n",
    "    index+=1"
   ]
  },
  {
   "cell_type": "markdown",
   "metadata": {},
   "source": [
    "# Creating a Web Page"
   ]
  },
  {
   "cell_type": "code",
   "execution_count": 175,
   "metadata": {
    "collapsed": true
   },
   "outputs": [],
   "source": [
    "from jinja2 import Template"
   ]
  },
  {
   "cell_type": "code",
   "execution_count": 178,
   "metadata": {
    "collapsed": true
   },
   "outputs": [],
   "source": [
    "# Define jinja2 template\n",
    "TEMPLATE = Template(\"\"\"<html><body></body><html>{% for i in range(0,index)%}<center><img src=\"{{i}}.svg\" align=\"middle\"></center><br><br><br><br><br><br>{% endfor %}\"\"\")"
   ]
  },
  {
   "cell_type": "code",
   "execution_count": 180,
   "metadata": {
    "collapsed": false
   },
   "outputs": [],
   "source": [
    "with open('display.html', 'w') as file:\n",
    "    file.write(TEMPLATE.render(index=index))"
   ]
  }
 ],
 "metadata": {
  "kernelspec": {
   "display_name": "Python 2",
   "language": "python",
   "name": "python2"
  },
  "language_info": {
   "codemirror_mode": {
    "name": "ipython",
    "version": 2
   },
   "file_extension": ".py",
   "mimetype": "text/x-python",
   "name": "python",
   "nbconvert_exporter": "python",
   "pygments_lexer": "ipython2",
   "version": "2.7.10"
  }
 },
 "nbformat": 4,
 "nbformat_minor": 0
}
