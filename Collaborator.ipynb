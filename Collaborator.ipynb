{
 "cells": [
  {
   "cell_type": "markdown",
   "metadata": {},
   "source": [
    "# Hello there! We heard you're planning a HackWeek!\n",
    "Collaboratr is a tool that will help connect hackers with knowledge with people who want to learn from them. To use this tool, simply follow the steps contained in this notebook."
   ]
  },
  {
   "cell_type": "code",
   "execution_count": 87,
   "metadata": {
    "collapsed": false
   },
   "outputs": [
    {
     "data": {
      "text/plain": [
       "<module 'collaboratr' from 'collaboratr.pyc'>"
      ]
     },
     "execution_count": 87,
     "metadata": {},
     "output_type": "execute_result"
    }
   ],
   "source": [
    "%matplotlib inline\n",
    "\n",
    "import matplotlib.pyplot as plt\n",
    "import networkx as nx\n",
    "import pandas as pd\n",
    "import numpy as np\n",
    "from operator import truediv\n",
    "from nxpd import draw\n",
    "from collections import Counter\n",
    "import itertools\n",
    "import random\n",
    "\n",
    "import collaboratr\n",
    "reload(collaboratr)"
   ]
  },
  {
   "cell_type": "markdown",
   "metadata": {},
   "source": [
    "# Step 1 Create a Google Form with the following four questions:\n",
    "    1. What is your name? [text entry]\n",
    "    2. What is your email? [text entry]\n",
    "    3. What can you help others with? [checkboxes with possible topics]\n",
    "    4. What do you want to collaborate on or learn about? [same topic checkboxes]\n",
    "    \n",
    "After receiving the responses from your attendees, load up the CSV of responses from the google form by running the cell below (you'll have to change the path to your own CSV)"
   ]
  },
  {
   "cell_type": "code",
   "execution_count": 88,
   "metadata": {
    "collapsed": false
   },
   "outputs": [],
   "source": [
    "# Retrieve data from Google Sheet and parse using pandas dataframe\n",
    "data = pd.read_csv(\"https://raw.githubusercontent.com/benelson/collaboratr/master/collaboratr.csv\")\n",
    "data = data.replace(np.nan,' ', regex=True)\n",
    "users = data['1. What is your name?']\n",
    "emails = data['2. What is your email?']\n",
    "teach = data['3. What can you help others with?']\n",
    "learn = data['4. What do you want to collaborate on or learn about?']"
   ]
  },
  {
   "cell_type": "markdown",
   "metadata": {},
   "source": [
    "# Step 2: Determine your desired breakout threshold\n",
    "Breakout sessions are a great way to help your attendees learn about topics that many are interested in, particularly those topics where the number of learners is much larger than the number of potential teachers. The following parameters govern the establishment of breakout sessions:\n",
    "\n",
    "* `BREAKOUT_REQ_RATIO` sets a minimum ratio of learners to teachers for a breakout to be established. If this is $\\leq 1$, you may prefer to have individual discussions in lieu of a breakout.\n",
    "* `BREAKOUT_REQ_FRACTION` will establish a breakout session for any topic where the fraction of people expressing desire to learn a topic is greater than this fraction of total attendees (survey respondents). If a large fraction of your hackers want to learn about a topic, a breakout may be more efficient than individual discussions."
   ]
  },
  {
   "cell_type": "code",
   "execution_count": 89,
   "metadata": {
    "collapsed": true
   },
   "outputs": [],
   "source": [
    "BREAKOUT_REQ_RATIO = 2\n",
    "BREAKOUT_REQ_FRACTION = 0.2"
   ]
  },
  {
   "cell_type": "markdown",
   "metadata": {},
   "source": [
    "# Step 3: Determine breakout topics\n",
    "The following cell will compute the necessary breakout topics based on the parameters specified above. We determine these before assigning individual topic pairings."
   ]
  },
  {
   "cell_type": "code",
   "execution_count": 90,
   "metadata": {
    "collapsed": false
   },
   "outputs": [],
   "source": [
    "breakouts = collaboratr.find_breakouts(users,teach,learn,BREAKOUT_REQ_RATIO,BREAKOUT_REQ_FRACTION)"
   ]
  },
  {
   "cell_type": "code",
   "execution_count": 91,
   "metadata": {
    "collapsed": false
   },
   "outputs": [
    {
     "name": "stdout",
     "output_type": "stream",
     "text": [
      "It looks like you'll be having breakouts in:\n",
      "1. GAIA DRI\n",
      "2. packaging (Python)\n",
      "3. gaussian processes\n",
      "4. autodiff\n"
     ]
    }
   ],
   "source": [
    "print 'It looks like you\\'ll be having breakouts in:'\n",
    "for i,b in enumerate(breakouts): print str(i+1)+'.',b"
   ]
  },
  {
   "cell_type": "markdown",
   "metadata": {},
   "source": [
    "# Step 4: Compute the Overall Graph of Topic Pairings\n",
    "These cells will produce an overall social graph of your hackathon, with arrows pointing from a learner to a recommended teacher to consult on a topic."
   ]
  },
  {
   "cell_type": "code",
   "execution_count": 92,
   "metadata": {
    "collapsed": false
   },
   "outputs": [],
   "source": [
    "G = nx.DiGraph()"
   ]
  },
  {
   "cell_type": "code",
   "execution_count": 93,
   "metadata": {
    "collapsed": false
   },
   "outputs": [],
   "source": [
    "# Insert users in graphs\n",
    "for u,e,l,t in zip(users, emails, learn, teach):\n",
    "    collaboratr.insert_node(G,u, email=e, learn=l.split(';'), teach=t.split(';'))"
   ]
  },
  {
   "cell_type": "code",
   "execution_count": 94,
   "metadata": {
    "collapsed": false
   },
   "outputs": [],
   "source": [
    "participants = G.nodes(data=True)"
   ]
  },
  {
   "cell_type": "code",
   "execution_count": 95,
   "metadata": {
    "collapsed": false
   },
   "outputs": [],
   "source": [
    "assign = collaboratr.assign_users(G,participants,breakouts)"
   ]
  },
  {
   "cell_type": "code",
   "execution_count": 96,
   "metadata": {
    "collapsed": false
   },
   "outputs": [],
   "source": [
    "G_new = nx.DiGraph(bgcolor='white')\n",
    "G_new.add_nodes_from(participants, style='filled', fillcolor='black', \n",
    "                     fontcolor='white', fontname='sans-serif', fontsize=24)\n",
    "G_new.add_node('breakout', shape='rectangle', width=4, height=1, style='filled', fillcolor='black',\n",
    "              fontcolor='white', fontname='sans-serif', fontsize=30)"
   ]
  },
  {
   "cell_type": "code",
   "execution_count": 97,
   "metadata": {
    "collapsed": false
   },
   "outputs": [],
   "source": [
    "for p in G.nodes():\n",
    "    mappings = assign[p]\n",
    "    for m in mappings.keys():\n",
    "        G_new.add_edge(p, mappings[m], label=m, style='dotted', fontcolor='red', fontsize=20,\n",
    "                      fontname='sans-serif')"
   ]
  },
  {
   "cell_type": "code",
   "execution_count": 98,
   "metadata": {
    "collapsed": false
   },
   "outputs": [
    {
     "data": {
      "text/plain": [
       "'Resources/0.svg'"
      ]
     },
     "execution_count": 98,
     "metadata": {},
     "output_type": "execute_result"
    }
   ],
   "source": [
    "draw(G_new, filename='Resources/0.svg')"
   ]
  },
  {
   "cell_type": "markdown",
   "metadata": {},
   "source": [
    "# Step 5: Draw Individually Customized Graphs\n",
    "These cells will produce sub-graphs for each learner, so that each attendee can easily determine who they should consult during the hack week."
   ]
  },
  {
   "cell_type": "code",
   "execution_count": 99,
   "metadata": {
    "collapsed": false
   },
   "outputs": [],
   "source": [
    "participants = G_new.nodes()\n",
    "connections = G_new.edges(data=True)"
   ]
  },
  {
   "cell_type": "code",
   "execution_count": 100,
   "metadata": {
    "collapsed": false
   },
   "outputs": [],
   "source": [
    "index = collaboratr.drawIndividualGraphs(participants,connections)"
   ]
  },
  {
   "cell_type": "code",
   "execution_count": 101,
   "metadata": {
    "collapsed": false
   },
   "outputs": [],
   "source": [
    "#needed to create webpage below\n",
    "obj = {}\n",
    "obj['index'] = index\n",
    "obj['participants'] = [p.split(' ')[0] for p in participants]"
   ]
  },
  {
   "cell_type": "markdown",
   "metadata": {},
   "source": [
    "# Step 6: Creating a HackWeek Reference Web Page\n",
    "The following cells will create a webpage with both the overall and individual social graphs. If you host the html file on your webpage, attendees will be able to click on their name and find their customized learning graph."
   ]
  },
  {
   "cell_type": "code",
   "execution_count": 102,
   "metadata": {
    "collapsed": false
   },
   "outputs": [],
   "source": [
    "TEMPLATE1 = collaboratr.createWebPage(obj)"
   ]
  },
  {
   "cell_type": "code",
   "execution_count": 103,
   "metadata": {
    "collapsed": false
   },
   "outputs": [],
   "source": [
    "with open('display.html', 'w') as file:\n",
    "    file.write(TEMPLATE1.render(obj=obj))"
   ]
  },
  {
   "cell_type": "markdown",
   "metadata": {},
   "source": [
    "# Step 7: Create a Breakouts Web Page\n",
    "This separate webpage will allow teachers and learners to collaboratively arrange breakout sessions during the hack week."
   ]
  },
  {
   "cell_type": "code",
   "execution_count": 104,
   "metadata": {
    "collapsed": false
   },
   "outputs": [],
   "source": [
    "participants = G.nodes(data=True)\n",
    "TEMPLATE2 = collaboratr.createBreakoutPage(participants,breakouts)"
   ]
  },
  {
   "cell_type": "code",
   "execution_count": 105,
   "metadata": {
    "collapsed": false
   },
   "outputs": [],
   "source": [
    "with open('breakouts.html', 'w') as file:\n",
    "    file.write(TEMPLATE2.render(objs=objs))"
   ]
  },
  {
   "cell_type": "markdown",
   "metadata": {},
   "source": [
    "# Step 8: Enjoy streamlined learning at your hack week!"
   ]
  },
  {
   "cell_type": "code",
   "execution_count": null,
   "metadata": {
    "collapsed": true
   },
   "outputs": [],
   "source": []
  }
 ],
 "metadata": {
  "kernelspec": {
   "display_name": "Python 2",
   "language": "python",
   "name": "python2"
  },
  "language_info": {
   "codemirror_mode": {
    "name": "ipython",
    "version": 2
   },
   "file_extension": ".py",
   "mimetype": "text/x-python",
   "name": "python",
   "nbconvert_exporter": "python",
   "pygments_lexer": "ipython2",
   "version": "2.7.12"
  }
 },
 "nbformat": 4,
 "nbformat_minor": 0
}
