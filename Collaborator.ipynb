{
 "cells": [
  {
   "cell_type": "code",
   "execution_count": 185,
   "metadata": {
    "collapsed": false
   },
   "outputs": [],
   "source": [
    "%matplotlib inline\n",
    "from __future__ import division\n",
    "import matplotlib.pyplot as plt\n",
    "import networkx as nx\n",
    "import pandas as pd\n",
    "import numpy as np\n",
    "from operator import truediv\n",
    "from nxpd import draw\n",
    "from collections import Counter\n",
    "import itertools\n",
    "from matplotlib import pyplot as plt"
   ]
  },
  {
   "cell_type": "code",
   "execution_count": 207,
   "metadata": {
    "collapsed": false
   },
   "outputs": [],
   "source": [
    "G = nx.DiGraph()"
   ]
  },
  {
   "cell_type": "code",
   "execution_count": 206,
   "metadata": {
    "collapsed": false
   },
   "outputs": [],
   "source": [
    "def insert_node(name, email, learn, teach):\n",
    "    G.add_node(name, email=email, learn=learn, teach=teach)\n",
    "    \n",
    "    for node in G.nodes(data=True):\n",
    "        learn_other = node[1]['learn']\n",
    "        teach_other = node[1]['teach']\n",
    "        \n",
    "        common = [l for l in learn if l in teach_other]\n",
    "        w = len(common)\n",
    "        G.add_edge(name, node[0], weight=w, common=common)\n",
    "        \n",
    "        common = [l for l in teach if l in learn_other]\n",
    "        w = len(common)\n",
    "        G.add_edge(node[0], name, weight=w, common=common)"
   ]
  },
  {
   "cell_type": "code",
   "execution_count": 208,
   "metadata": {
    "collapsed": false
   },
   "outputs": [],
   "source": [
    "# Retrieve data from Google Sheet and parse using pandas dataframe\n",
    "data = pd.read_csv(\"https://raw.githubusercontent.com/benelson/collaboratr/master/collaboratr.csv\")\n",
    "data = data.replace(np.nan,' ', regex=True)\n",
    "users = data['1. What is your name?']\n",
    "emails = data['2. What is your email?']\n",
    "teach = data['3. What can you help others with?']\n",
    "learn = data['4. What do you want to collaborate on or learn about?']"
   ]
  },
  {
   "cell_type": "markdown",
   "metadata": {},
   "source": [
    "## Decision Tree"
   ]
  },
  {
   "cell_type": "code",
   "execution_count": 210,
   "metadata": {
    "collapsed": false
   },
   "outputs": [],
   "source": [
    "big_list = []\n",
    "for i in range(len(teach)):\n",
    "    big_list.append(teach[i].split(';'))\n",
    "\n",
    "big_list1 = []\n",
    "for i in range(len(learn)):\n",
    "    big_list1.append(learn[i].split(';'))"
   ]
  },
  {
   "cell_type": "code",
   "execution_count": 211,
   "metadata": {
    "collapsed": false
   },
   "outputs": [],
   "source": [
    "all_teach = list((itertools.chain.from_iterable(big_list)))\n",
    "N_teach = Counter(all_teach).values()"
   ]
  },
  {
   "cell_type": "code",
   "execution_count": 212,
   "metadata": {
    "collapsed": true
   },
   "outputs": [],
   "source": [
    "all_learn = list((itertools.chain.from_iterable(big_list1)))\n",
    "N_learn = Counter(all_learn).values()"
   ]
  },
  {
   "cell_type": "code",
   "execution_count": 229,
   "metadata": {
    "collapsed": false
   },
   "outputs": [],
   "source": [
    "ratios =  map(truediv,N_learn,N_teach[:-1])"
   ]
  },
  {
   "cell_type": "code",
   "execution_count": 230,
   "metadata": {
    "collapsed": true
   },
   "outputs": [],
   "source": [
    "breakout_pct = .2\n",
    "N = len(users)\n",
    "subjects = Counter(all_teach).keys()\n",
    "isBreakout = (np.array(ratios) > 2) & (np.array(N_learn > breakout_pct*N))"
   ]
  },
  {
   "cell_type": "code",
   "execution_count": 232,
   "metadata": {
    "collapsed": false
   },
   "outputs": [
    {
     "data": {
      "text/plain": [
       "array(['GAIA DRI', 'stochastic gradient', 'gaussian processes',\n",
       "       'databases', 'HTML5, CSS, javascript,GitHub pages', 'autodiff'], \n",
       "      dtype='|S35')"
      ]
     },
     "execution_count": 232,
     "metadata": {},
     "output_type": "execute_result"
    }
   ],
   "source": [
    "breakouts = np.array(subjects)[list(np.where(isBreakout)[0])]\n",
    "breakouts"
   ]
  },
  {
   "cell_type": "markdown",
   "metadata": {},
   "source": [
    "## Graphs"
   ]
  },
  {
   "cell_type": "code",
   "execution_count": 216,
   "metadata": {
    "collapsed": false
   },
   "outputs": [],
   "source": [
    "[insert_node(u, email=e, learn=l.split(';'), teach=t.split(';')) for u,e,l,t in zip(users, emails, learn, teach)]\n",
    "pass"
   ]
  },
  {
   "cell_type": "code",
   "execution_count": 217,
   "metadata": {
    "collapsed": true
   },
   "outputs": [],
   "source": [
    "participants = G.nodes(data=True)"
   ]
  },
  {
   "cell_type": "code",
   "execution_count": 218,
   "metadata": {
    "collapsed": false
   },
   "outputs": [],
   "source": [
    "assign = {}\n",
    "i=0\n",
    "for p in participants:\n",
    "    assign_p = {}\n",
    "    for l in p[1]['learn']:\n",
    "        if l in breakouts:\n",
    "            assign_p[l] = 'breakout'\n",
    "        else:\n",
    "            edges = G.edges(p[0], data=True)\n",
    "            for e in edges:\n",
    "                if (l in e[2]['common']) and (l!=''):\n",
    "                    assign_p[l] = e[1]\n",
    "                else: \n",
    "                    pass\n",
    "    assign[p[0]] = assign_p\n",
    "    i+=1"
   ]
  },
  {
   "cell_type": "code",
   "execution_count": 219,
   "metadata": {
    "collapsed": false
   },
   "outputs": [
    {
     "data": {
      "text/plain": [
       "{'Adrian Price-Whelan': {'GAIA DRI': 'Adrian Price-Whelan'},\n",
       " 'Arna Karick': {'Jupyter': 'Phil Marshall',\n",
       "  'astronomy cirriculum': 'Kate Follette',\n",
       "  'databases': 'Dan F-M',\n",
       "  'machine learning': 'breakout',\n",
       "  'sphinx': 'Dan F-M'},\n",
       " 'Ben Nelson': {'autodiff': 'Dan F-M',\n",
       "  'gaussian processes': 'Dan F-M',\n",
       "  'machine learning': 'breakout',\n",
       "  'packaging (Python)': 'Dan F-M'},\n",
       " 'Brigitta Sipocz': {'autodiff': 'Dan F-M',\n",
       "  'gaussian processes': 'Dan F-M',\n",
       "  'machine learning': 'breakout'},\n",
       " 'Casey Law': {'Jupyter': 'Phil Marshall',\n",
       "  'Travis-CI': 'breakout',\n",
       "  'astronomy cirriculum': 'Kate Follette',\n",
       "  'machine learning': 'breakout',\n",
       "  'packaging (Python)': 'Dan F-M',\n",
       "  'sphinx': 'Dan F-M'},\n",
       " 'Dan F-M': {'GAIA DRI': 'Adrian Price-Whelan'},\n",
       " 'Jonathan Whitmore': {},\n",
       " 'Kate Follette': {'Jupyter': 'Phil Marshall',\n",
       "  'astronomy cirriculum': 'Kate Follette',\n",
       "  'gaussian processes': 'Dan F-M'},\n",
       " 'Layne Price': {'databases': 'Dan F-M', 'stochastic gradient': 'breakout'},\n",
       " 'Oleg Burgue\\xc3\\xb1o': {'databases': 'Dan F-M',\n",
       "  'gaussian processes': 'Dan F-M',\n",
       "  'packaging (Python)': 'Dan F-M',\n",
       "  'probabilistic graphical models': 'Phil Marshall'},\n",
       " 'Phil Marshall': {'databases': 'Dan F-M',\n",
       "  'gaussian processes': 'Dan F-M',\n",
       "  'packaging (Python)': 'Dan F-M',\n",
       "  'sphinx': 'Dan F-M'},\n",
       " 'Usman Khan': {'GAIA DRI': 'Adrian Price-Whelan',\n",
       "  'Jupyter': 'Phil Marshall',\n",
       "  'Travis-CI': 'breakout',\n",
       "  'autodiff': 'Dan F-M',\n",
       "  'packaging (Python)': 'Dan F-M',\n",
       "  'probabilistic graphical models': 'Phil Marshall'},\n",
       " 'Vinayak Mathur': {'GAIA DRI': 'Adrian Price-Whelan',\n",
       "  'Jupyter': 'Phil Marshall',\n",
       "  'Travis-CI': 'breakout',\n",
       "  'machine learning': 'breakout',\n",
       "  'packaging (Python)': 'Zaki Ali',\n",
       "  'probabilistic graphical models': 'Phil Marshall',\n",
       "  'stochastic gradient': 'breakout'},\n",
       " 'Zaki Ali': {'Bayes': 'Phil Marshall',\n",
       "  'Travis-CI': 'breakout',\n",
       "  'databases': 'Dan F-M',\n",
       "  'gaussian processes': 'Dan F-M',\n",
       "  'machine learning': 'breakout'}}"
      ]
     },
     "execution_count": 219,
     "metadata": {},
     "output_type": "execute_result"
    }
   ],
   "source": [
    "assign"
   ]
  },
  {
   "cell_type": "code",
   "execution_count": 221,
   "metadata": {
    "collapsed": false
   },
   "outputs": [],
   "source": [
    "G1 = nx.DiGraph()"
   ]
  },
  {
   "cell_type": "code",
   "execution_count": 222,
   "metadata": {
    "collapsed": false
   },
   "outputs": [],
   "source": [
    "G1.add_nodes_from(participants)"
   ]
  },
  {
   "cell_type": "code",
   "execution_count": 223,
   "metadata": {
    "collapsed": false
   },
   "outputs": [
    {
     "data": {
      "text/plain": [
       "['Oleg Burgue\\xc3\\xb1o',\n",
       " 'Brigitta Sipocz',\n",
       " 'Jonathan Whitmore',\n",
       " 'Layne Price',\n",
       " 'Ben Nelson',\n",
       " 'Usman Khan',\n",
       " 'Adrian Price-Whelan',\n",
       " 'Zaki Ali',\n",
       " 'Casey Law',\n",
       " 'Dan F-M',\n",
       " 'Vinayak Mathur',\n",
       " 'Kate Follette',\n",
       " 'Phil Marshall',\n",
       " 'Arna Karick']"
      ]
     },
     "execution_count": 223,
     "metadata": {},
     "output_type": "execute_result"
    }
   ],
   "source": [
    "G1.nodes()"
   ]
  },
  {
   "cell_type": "code",
   "execution_count": 224,
   "metadata": {
    "collapsed": false
   },
   "outputs": [],
   "source": [
    "for p in G.nodes():\n",
    "    mappings = assign[p]\n",
    "    for m in mappings.keys():\n",
    "        G1.add_edge(p, mappings[m], label=m)"
   ]
  },
  {
   "cell_type": "code",
   "execution_count": 227,
   "metadata": {
    "collapsed": false
   },
   "outputs": [
    {
     "data": {
      "text/plain": [
       "'/var/folders/pc/lq5slw9x3f92zfnsfvj0n82h0000gn/T/nx_LDuDfW.png'"
      ]
     },
     "execution_count": 227,
     "metadata": {},
     "output_type": "execute_result"
    }
   ],
   "source": [
    "pos=nx.spring_layout(G1)\n",
    "draw(G1)"
   ]
  }
 ],
 "metadata": {
  "kernelspec": {
   "display_name": "Python 2",
   "language": "python",
   "name": "python2"
  },
  "language_info": {
   "codemirror_mode": {
    "name": "ipython",
    "version": 2
   },
   "file_extension": ".py",
   "mimetype": "text/x-python",
   "name": "python",
   "nbconvert_exporter": "python",
   "pygments_lexer": "ipython2",
   "version": "2.7.10"
  }
 },
 "nbformat": 4,
 "nbformat_minor": 0
}
