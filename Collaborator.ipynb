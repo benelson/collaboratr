{
 "cells": [
  {
   "cell_type": "code",
   "execution_count": 104,
   "metadata": {
    "collapsed": false
   },
   "outputs": [],
   "source": [
    "%matplotlib inline\n",
    "from __future__ import division\n",
    "\n",
    "import matplotlib.pyplot as plt\n",
    "import networkx as nx\n",
    "import pandas as pd\n",
    "import numpy as np\n",
    "from operator import truediv\n",
    "from nxpd import draw\n",
    "from collections import Counter\n",
    "import itertools\n",
    "import random"
   ]
  },
  {
   "cell_type": "code",
   "execution_count": 105,
   "metadata": {
    "collapsed": false
   },
   "outputs": [],
   "source": [
    "G = nx.DiGraph()"
   ]
  },
  {
   "cell_type": "code",
   "execution_count": 106,
   "metadata": {
    "collapsed": false
   },
   "outputs": [],
   "source": [
    "def insert_node(name, email, learn, teach):\n",
    "    G.add_node(name, email=email, learn=learn, teach=teach)\n",
    "    \n",
    "    for node in G.nodes(data=True):\n",
    "        learn_other = node[1]['learn']\n",
    "        teach_other = node[1]['teach']\n",
    "        \n",
    "        common = [l for l in learn if l in teach_other]\n",
    "        w = len(common)\n",
    "        G.add_edge(name, node[0], weight=w, common=common)\n",
    "        \n",
    "        common = [l for l in teach if l in learn_other]\n",
    "        w = len(common)\n",
    "        G.add_edge(node[0], name, weight=w, common=common)"
   ]
  },
  {
   "cell_type": "code",
   "execution_count": 107,
   "metadata": {
    "collapsed": false
   },
   "outputs": [],
   "source": [
    "# Retrieve data from Google Sheet and parse using pandas dataframe\n",
    "data = pd.read_csv(\"https://raw.githubusercontent.com/benelson/collaboratr/master/collaboratr.csv\")\n",
    "data = data.replace(np.nan,' ', regex=True)\n",
    "users = data['1. What is your name?']\n",
    "emails = data['2. What is your email?']\n",
    "teach = data['3. What can you help others with?']\n",
    "learn = data['4. What do you want to collaborate on or learn about?']"
   ]
  },
  {
   "cell_type": "markdown",
   "metadata": {},
   "source": [
    "## Decision Tree"
   ]
  },
  {
   "cell_type": "code",
   "execution_count": 108,
   "metadata": {
    "collapsed": false
   },
   "outputs": [],
   "source": [
    "def find_breakouts(teach, learn):\n",
    "    \"\"\"\n",
    "    Find subjects which deserve breakouts depending \n",
    "    on student to teach ratios.\n",
    "    \"\"\"\n",
    "    big_list = []\n",
    "    for i in range(len(teach)):\n",
    "        big_list.append(teach[i].split(';'))\n",
    "\n",
    "    big_list1 = []\n",
    "    for i in range(len(learn)):\n",
    "        big_list1.append(learn[i].split(';'))\n",
    "        \n",
    "    all_teach = list((itertools.chain.from_iterable(big_list)))\n",
    "    N_teach = Counter(all_teach).values()\n",
    "    \n",
    "    all_learn = list((itertools.chain.from_iterable(big_list1)))\n",
    "    N_learn = Counter(all_learn).values()\n",
    "    \n",
    "    ratios =  map(truediv,N_learn,N_teach[:-3])\n",
    "    \n",
    "    breakout_pct = .2\n",
    "    N = len(users)\n",
    "    subjects = Counter(all_teach).keys()\n",
    "    isBreakout = (np.array(ratios) > 2) & (np.array(N_learn > breakout_pct*N))\n",
    "    \n",
    "    breakouts = np.array(subjects)[list(np.where(isBreakout)[0])]\n",
    "    \n",
    "    return breakouts"
   ]
  },
  {
   "cell_type": "code",
   "execution_count": 109,
   "metadata": {
    "collapsed": false
   },
   "outputs": [
    {
     "data": {
      "text/plain": [
       "array(['HTML5, CSS, javascript,GitHub pages', 'stochastic gradient',\n",
       "       'Bayes', ' fisher matrices', 'GAIA DRI', 'science communication',\n",
       "       'R', 'Fourier Analysis', 'sphinx'], \n",
       "      dtype='|S35')"
      ]
     },
     "execution_count": 109,
     "metadata": {},
     "output_type": "execute_result"
    }
   ],
   "source": [
    "breakouts = find_breakouts(teach, learn)\n",
    "breakouts"
   ]
  },
  {
   "cell_type": "markdown",
   "metadata": {},
   "source": [
    "## Graphs"
   ]
  },
  {
   "cell_type": "code",
   "execution_count": 110,
   "metadata": {
    "collapsed": false
   },
   "outputs": [],
   "source": [
    "for u,e,l,t in zip(users, emails, learn, teach):\n",
    "    insert_node(u, email=e, learn=l.split(';'), teach=t.split(';'))"
   ]
  },
  {
   "cell_type": "code",
   "execution_count": 111,
   "metadata": {
    "collapsed": false
   },
   "outputs": [],
   "source": [
    "participants = G.nodes(data=True)"
   ]
  },
  {
   "cell_type": "code",
   "execution_count": 112,
   "metadata": {
    "collapsed": false
   },
   "outputs": [],
   "source": [
    "def assign_users():\n",
    "    \"\"\"\n",
    "    This uses LOTS of nested loops. Work to be done here.\n",
    "    \"\"\"\n",
    "    assign = {}\n",
    "    i=0\n",
    "    for p in participants:\n",
    "        assign_p = {}\n",
    "        for l in p[1]['learn']:\n",
    "            if l in breakouts:\n",
    "                assign_p[l] = 'breakout'\n",
    "            else:\n",
    "                edges = G.edges(p[0], data=True)\n",
    "                common = []\n",
    "                \n",
    "                for e in edges:\n",
    "                    if (l in e[2]['common']) and (l!=''):\n",
    "                        common.append(e[1])\n",
    "                    else: \n",
    "                        pass\n",
    "                \n",
    "                if common != []:\n",
    "                    assign_p[l] = random.choice(common)   \n",
    "                \n",
    "        assign[p[0]] = assign_p\n",
    "        i+=1\n",
    "        \n",
    "    return assign"
   ]
  },
  {
   "cell_type": "code",
   "execution_count": 113,
   "metadata": {
    "collapsed": false
   },
   "outputs": [],
   "source": [
    "assign = assign_users()"
   ]
  },
  {
   "cell_type": "code",
   "execution_count": 114,
   "metadata": {
    "collapsed": false
   },
   "outputs": [],
   "source": [
    "G_new = nx.DiGraph(bgcolor='white')"
   ]
  },
  {
   "cell_type": "code",
   "execution_count": 115,
   "metadata": {
    "collapsed": false
   },
   "outputs": [],
   "source": [
    "G_new.add_nodes_from(participants, style='filled', fillcolor='black', \n",
    "                     fontcolor='white', fontname='sans-serif', fontsize=24)\n",
    "G_new.add_node('breakout', shape='rectangle', width=4, height=1, style='filled', fillcolor='black',\n",
    "              fontcolor='white', fontname='sans-serif', fontsize=30)"
   ]
  },
  {
   "cell_type": "code",
   "execution_count": 116,
   "metadata": {
    "collapsed": false
   },
   "outputs": [],
   "source": [
    "for p in G.nodes():\n",
    "    mappings = assign[p]\n",
    "    for m in mappings.keys():\n",
    "        G_new.add_edge(p, mappings[m], label=m, style='dotted', fontcolor='red', fontsize=20,\n",
    "                      fontname='sans-serif')"
   ]
  },
  {
   "cell_type": "code",
   "execution_count": 117,
   "metadata": {
    "collapsed": false
   },
   "outputs": [
    {
     "data": {
      "text/plain": [
       "'Resources/0.svg'"
      ]
     },
     "execution_count": 117,
     "metadata": {},
     "output_type": "execute_result"
    }
   ],
   "source": [
    "draw(G_new, filename='Resources/0.svg')"
   ]
  },
  {
   "cell_type": "markdown",
   "metadata": {},
   "source": [
    "# Customized Graphs"
   ]
  },
  {
   "cell_type": "code",
   "execution_count": 118,
   "metadata": {
    "collapsed": false
   },
   "outputs": [],
   "source": [
    "participants = G_new.nodes()\n",
    "connections = G_new.edges(data=True)"
   ]
  },
  {
   "cell_type": "code",
   "execution_count": 119,
   "metadata": {
    "collapsed": false
   },
   "outputs": [],
   "source": [
    "index=1\n",
    "for p in participants:\n",
    "    con = [c for c in connections if c[0] == p]\n",
    "    links = [c[1] for c in con]\n",
    "    links.append(p)\n",
    "\n",
    "    H = nx.DiGraph()\n",
    "    H.add_nodes_from(links, style='filled', fillcolor='black', \n",
    "                         fontcolor='white', fontname='sans-serif', fontsize=24)\n",
    "\n",
    "    for c in con:\n",
    "        H.add_edge(c[0], c[1], label=c[2]['label'], style='dotted', fontcolor='red', fontsize=12,\n",
    "                          fontname='sans-serif')\n",
    "\n",
    "    draw(H, filename='Resources/'+str(index)+'.svg')\n",
    "    index+=1"
   ]
  },
  {
   "cell_type": "code",
   "execution_count": 137,
   "metadata": {
    "collapsed": false
   },
   "outputs": [
    {
     "data": {
      "text/plain": [
       "{'index': 28,\n",
       " 'participants': ['Vinayak',\n",
       "  'Dalya',\n",
       "  'Adrian',\n",
       "  'Daniela',\n",
       "  'Kate',\n",
       "  'Phil',\n",
       "  'Jonathan',\n",
       "  'Ben',\n",
       "  'Usman',\n",
       "  'Grigor',\n",
       "  'Zach',\n",
       "  'Zaki',\n",
       "  'Jennifer',\n",
       "  'breakout',\n",
       "  'Oleg',\n",
       "  'Casey',\n",
       "  'Brigitta',\n",
       "  'Felipe',\n",
       "  'Jessie',\n",
       "  'Lucas',\n",
       "  'Madhura',\n",
       "  'Layne',\n",
       "  'Adam',\n",
       "  'Arna',\n",
       "  'Dan',\n",
       "  'Megan',\n",
       "  'Sophia']}"
      ]
     },
     "execution_count": 137,
     "metadata": {},
     "output_type": "execute_result"
    }
   ],
   "source": [
    "obj = {}\n",
    "obj['index'] = index\n",
    "obj['participants'] = [p.split(' ')[0] for p in participants]\n",
    "obj"
   ]
  },
  {
   "cell_type": "markdown",
   "metadata": {},
   "source": [
    "# Creating a Web Page"
   ]
  },
  {
   "cell_type": "code",
   "execution_count": 138,
   "metadata": {
    "collapsed": false
   },
   "outputs": [],
   "source": [
    "from jinja2 import Template"
   ]
  },
  {
   "cell_type": "code",
   "execution_count": 143,
   "metadata": {
    "collapsed": false
   },
   "outputs": [],
   "source": [
    "# Define jinja2 template\n",
    "TEMPLATE = Template(\"\"\"<html><head><link rel=\"stylesheet\" href=\"http://maxcdn.bootstrapcdn.com/bootstrap/3.3.7/css/bootstrap.min.css\">\n",
    "\n",
    "<!-- jQuery library -->\n",
    "<script src=\"https://ajax.googleapis.com/ajax/libs/jquery/1.12.4/jquery.min.js\"></script>\n",
    "\n",
    "<!-- Latest compiled JavaScript -->\n",
    "<script src=\"http://maxcdn.bootstrapcdn.com/bootstrap/3.3.7/js/bootstrap.min.js\"></script></head>\n",
    "<body>\n",
    "<nav class=\"navbar navbar-default\">\n",
    "  <div class=\"container-fluid\">\n",
    "    <div class=\"navbar-header\">\n",
    "      <a class=\"navbar-brand\" href=\"#\">Collaboratr</a>\n",
    "    </div>\n",
    "    <ul class=\"nav navbar-nav\">\n",
    "      <li class=\"active\"><a href=\"#\">Home</a></li>\n",
    "      <li><a href=\"#0\">Overall</a></li>\n",
    "      {% for p in obj.participants%}\n",
    "          <li><a href=\"#{{loop.index}}\">{{p}}</a></li> \n",
    "      {% endfor %}\n",
    "    </ul>\n",
    "  </div>\n",
    "</nav>\n",
    "        \n",
    "{% for i in range(0,obj.index)%}<a name=\"{{i}}\"><br><br><br><br><br><br><center><img src=\"Resources/{{i}}.svg\" align=\"middle\"></center>{% endfor %}<script src=\"jquery/jquery-2.0.3.min.js\"></script>\n",
    "</body>\n",
    "</html>\"\"\")"
   ]
  },
  {
   "cell_type": "code",
   "execution_count": 144,
   "metadata": {
    "collapsed": false
   },
   "outputs": [],
   "source": [
    "with open('display.html', 'w') as file:\n",
    "    file.write(TEMPLATE.render(obj=obj))"
   ]
  }
 ],
 "metadata": {
  "kernelspec": {
   "display_name": "Python 2",
   "language": "python",
   "name": "python2"
  },
  "language_info": {
   "codemirror_mode": {
    "name": "ipython",
    "version": 2
   },
   "file_extension": ".py",
   "mimetype": "text/x-python",
   "name": "python",
   "nbconvert_exporter": "python",
   "pygments_lexer": "ipython2",
   "version": "2.7.10"
  }
 },
 "nbformat": 4,
 "nbformat_minor": 0
}
