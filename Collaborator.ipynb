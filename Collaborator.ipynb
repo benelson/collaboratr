{
 "cells": [
  {
   "cell_type": "code",
   "execution_count": 68,
   "metadata": {
    "collapsed": false
   },
   "outputs": [
    {
     "data": {
      "text/plain": [
       "<module 'collaboratr' from 'collaboratr.pyc'>"
      ]
     },
     "execution_count": 68,
     "metadata": {},
     "output_type": "execute_result"
    }
   ],
   "source": [
    "%matplotlib inline\n",
    "\n",
    "import matplotlib.pyplot as plt\n",
    "import networkx as nx\n",
    "import pandas as pd\n",
    "import numpy as np\n",
    "from operator import truediv\n",
    "from nxpd import draw\n",
    "from collections import Counter\n",
    "import itertools\n",
    "import random\n",
    "\n",
    "import collaboratr\n",
    "reload(collaboratr)"
   ]
  },
  {
   "cell_type": "code",
   "execution_count": 22,
   "metadata": {
    "collapsed": false
   },
   "outputs": [],
   "source": [
    "BREAKOUT_REQ_RATIO = 2\n",
    "BREAKOUT_REQ_FRACTION = 0.2\n",
    "G = nx.DiGraph()"
   ]
  },
  {
   "cell_type": "code",
   "execution_count": 23,
   "metadata": {
    "collapsed": false
   },
   "outputs": [],
   "source": [
    "# Retrieve data from Google Sheet and parse using pandas dataframe\n",
    "data = pd.read_csv(\"https://raw.githubusercontent.com/benelson/collaboratr/master/collaboratr.csv\")\n",
    "data = data.replace(np.nan,' ', regex=True)\n",
    "users = data['1. What is your name?']\n",
    "emails = data['2. What is your email?']\n",
    "teach = data['3. What can you help others with?']\n",
    "learn = data['4. What do you want to collaborate on or learn about?']"
   ]
  },
  {
   "cell_type": "markdown",
   "metadata": {},
   "source": [
    "## Decision Tree"
   ]
  },
  {
   "cell_type": "code",
   "execution_count": 27,
   "metadata": {
    "collapsed": false
   },
   "outputs": [],
   "source": [
    "breakouts = collaboratr.find_breakouts(users,teach,learn,BREAKOUT_REQ_RATIO,BREAKOUT_REQ_FRACTION)"
   ]
  },
  {
   "cell_type": "code",
   "execution_count": 75,
   "metadata": {
    "collapsed": false
   },
   "outputs": [
    {
     "name": "stdout",
     "output_type": "stream",
     "text": [
      "looks like youll be having breakouts in \n",
      "GAIA DRI\n",
      "packaging (Python)\n",
      "gaussian processes\n",
      "autodiff\n"
     ]
    }
   ],
   "source": [
    "print 'looks like youll be having breakouts in '\n",
    "for b in breakouts: print b"
   ]
  },
  {
   "cell_type": "markdown",
   "metadata": {},
   "source": [
    "## Draw Overall Hack Graph"
   ]
  },
  {
   "cell_type": "code",
   "execution_count": 32,
   "metadata": {
    "collapsed": false
   },
   "outputs": [],
   "source": [
    "# Insert users in graphs\n",
    "for u,e,l,t in zip(users, emails, learn, teach):\n",
    "    collaboratr.insert_node(G,u, email=e, learn=l.split(';'), teach=t.split(';'))"
   ]
  },
  {
   "cell_type": "code",
   "execution_count": 33,
   "metadata": {
    "collapsed": false
   },
   "outputs": [],
   "source": [
    "participants = G.nodes(data=True)"
   ]
  },
  {
   "cell_type": "code",
   "execution_count": 37,
   "metadata": {
    "collapsed": false
   },
   "outputs": [],
   "source": [
    "assign = collaboratr.assign_users(G,participants,breakouts)"
   ]
  },
  {
   "cell_type": "code",
   "execution_count": 39,
   "metadata": {
    "collapsed": false
   },
   "outputs": [],
   "source": [
    "G_new = nx.DiGraph(bgcolor='white')\n",
    "G_new.add_nodes_from(participants, style='filled', fillcolor='black', \n",
    "                     fontcolor='white', fontname='sans-serif', fontsize=24)\n",
    "G_new.add_node('breakout', shape='rectangle', width=4, height=1, style='filled', fillcolor='black',\n",
    "              fontcolor='white', fontname='sans-serif', fontsize=30)"
   ]
  },
  {
   "cell_type": "code",
   "execution_count": 40,
   "metadata": {
    "collapsed": false
   },
   "outputs": [],
   "source": [
    "for p in G.nodes():\n",
    "    mappings = assign[p]\n",
    "    for m in mappings.keys():\n",
    "        G_new.add_edge(p, mappings[m], label=m, style='dotted', fontcolor='red', fontsize=20,\n",
    "                      fontname='sans-serif')"
   ]
  },
  {
   "cell_type": "code",
   "execution_count": 41,
   "metadata": {
    "collapsed": false
   },
   "outputs": [
    {
     "data": {
      "text/plain": [
       "'Resources/0.svg'"
      ]
     },
     "execution_count": 41,
     "metadata": {},
     "output_type": "execute_result"
    }
   ],
   "source": [
    "draw(G_new, filename='Resources/0.svg')"
   ]
  },
  {
   "cell_type": "markdown",
   "metadata": {},
   "source": [
    "# Draw Individually Customized Graphs"
   ]
  },
  {
   "cell_type": "code",
   "execution_count": 57,
   "metadata": {
    "collapsed": false
   },
   "outputs": [],
   "source": [
    "participants = G_new.nodes()\n",
    "connections = G_new.edges(data=True)"
   ]
  },
  {
   "cell_type": "code",
   "execution_count": 58,
   "metadata": {
    "collapsed": false
   },
   "outputs": [],
   "source": [
    "index = collaboratr.drawIndividualGraphs(participants,connections)"
   ]
  },
  {
   "cell_type": "code",
   "execution_count": 59,
   "metadata": {
    "collapsed": false
   },
   "outputs": [],
   "source": [
    "obj = {}\n",
    "obj['index'] = index\n",
    "obj['participants'] = [p.split(' ')[0] for p in participants]"
   ]
  },
  {
   "cell_type": "markdown",
   "metadata": {},
   "source": [
    "# Creating a Web Page"
   ]
  },
  {
   "cell_type": "code",
   "execution_count": 60,
   "metadata": {
    "collapsed": false
   },
   "outputs": [],
   "source": [
    "TEMPLATE1 = collaboratr.createWebPage(obj)"
   ]
  },
  {
   "cell_type": "code",
   "execution_count": 61,
   "metadata": {
    "collapsed": false
   },
   "outputs": [],
   "source": [
    "with open('display.html', 'w') as file:\n",
    "    file.write(TEMPLATE1.render(obj=obj))"
   ]
  },
  {
   "cell_type": "markdown",
   "metadata": {},
   "source": [
    "# Breakout Visualizations"
   ]
  },
  {
   "cell_type": "code",
   "execution_count": 66,
   "metadata": {
    "collapsed": false
   },
   "outputs": [],
   "source": [
    "participants = G.nodes(data=True)\n",
    "TEMPLATE2 = collaboratr.createBreakoutPage(participants,breakouts)"
   ]
  },
  {
   "cell_type": "code",
   "execution_count": 67,
   "metadata": {
    "collapsed": false
   },
   "outputs": [],
   "source": [
    "with open('breakouts.html', 'w') as file:\n",
    "    file.write(TEMPLATE2.render(objs=objs))"
   ]
  }
 ],
 "metadata": {
  "kernelspec": {
   "display_name": "Python 2",
   "language": "python",
   "name": "python2"
  },
  "language_info": {
   "codemirror_mode": {
    "name": "ipython",
    "version": 2
   },
   "file_extension": ".py",
   "mimetype": "text/x-python",
   "name": "python",
   "nbconvert_exporter": "python",
   "pygments_lexer": "ipython2",
   "version": "2.7.12"
  }
 },
 "nbformat": 4,
 "nbformat_minor": 0
}
