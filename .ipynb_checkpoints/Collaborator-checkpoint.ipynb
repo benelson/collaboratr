{
 "cells": [
  {
   "cell_type": "code",
   "execution_count": 2,
   "metadata": {
    "collapsed": false
   },
   "outputs": [],
   "source": [
    "%matplotlib inline\n",
    "from __future__ import division\n",
    "\n",
    "import matplotlib.pyplot as plt\n",
    "import networkx as nx\n",
    "import pandas as pd\n",
    "import numpy as np\n",
    "from operator import truediv\n",
    "from nxpd import draw\n",
    "from collections import Counter\n",
    "import itertools"
   ]
  },
  {
   "cell_type": "code",
   "execution_count": 36,
   "metadata": {
    "collapsed": false
   },
   "outputs": [],
   "source": [
    "G = nx.DiGraph()"
   ]
  },
  {
   "cell_type": "code",
   "execution_count": 37,
   "metadata": {
    "collapsed": false
   },
   "outputs": [],
   "source": [
    "def insert_node(name, email, learn, teach):\n",
    "    G.add_node(name, email=email, learn=learn, teach=teach)\n",
    "    \n",
    "    for node in G.nodes(data=True):\n",
    "        learn_other = node[1]['learn']\n",
    "        teach_other = node[1]['teach']\n",
    "        \n",
    "        common = [l for l in learn if l in teach_other]\n",
    "        w = len(common)\n",
    "        G.add_edge(name, node[0], weight=w, common=common)\n",
    "        \n",
    "        common = [l for l in teach if l in learn_other]\n",
    "        w = len(common)\n",
    "        G.add_edge(node[0], name, weight=w, common=common)"
   ]
  },
  {
   "cell_type": "code",
   "execution_count": 38,
   "metadata": {
    "collapsed": false
   },
   "outputs": [],
   "source": [
    "# Retrieve data from Google Sheet and parse using pandas dataframe\n",
    "data = pd.read_csv(\"https://raw.githubusercontent.com/benelson/collaboratr/master/collaboratr.csv\")\n",
    "data = data.replace(np.nan,' ', regex=True)\n",
    "users = data['1. What is your name?']\n",
    "emails = data['2. What is your email?']\n",
    "teach = data['3. What can you help others with?']\n",
    "learn = data['4. What do you want to collaborate on or learn about?']"
   ]
  },
  {
   "cell_type": "markdown",
   "metadata": {},
   "source": [
    "## Decision Tree"
   ]
  },
  {
   "cell_type": "code",
   "execution_count": 39,
   "metadata": {
    "collapsed": false
   },
   "outputs": [],
   "source": [
    "def find_breakouts(teach, learn):\n",
    "    \"\"\"\n",
    "    Find subjects which deserve breakouts depending \n",
    "    on student to teach ratios.\n",
    "    \"\"\"\n",
    "    big_list = []\n",
    "    for i in range(len(teach)):\n",
    "        big_list.append(teach[i].split(';'))\n",
    "\n",
    "    big_list1 = []\n",
    "    for i in range(len(learn)):\n",
    "        big_list1.append(learn[i].split(';'))\n",
    "        \n",
    "    all_teach = list((itertools.chain.from_iterable(big_list)))\n",
    "    N_teach = Counter(all_teach).values()\n",
    "    \n",
    "    all_learn = list((itertools.chain.from_iterable(big_list1)))\n",
    "    N_learn = Counter(all_learn).values()\n",
    "    \n",
    "    ratios =  map(truediv,N_learn,N_teach[:-1])\n",
    "    \n",
    "    breakout_pct = .2\n",
    "    N = len(users)\n",
    "    subjects = Counter(all_teach).keys()\n",
    "    isBreakout = (np.array(ratios) > 2) & (np.array(N_learn > breakout_pct*N))\n",
    "    \n",
    "    breakouts = np.array(subjects)[list(np.where(isBreakout)[0])]\n",
    "    \n",
    "    return breakouts"
   ]
  },
  {
   "cell_type": "code",
   "execution_count": 40,
   "metadata": {
    "collapsed": false
   },
   "outputs": [
    {
     "data": {
      "text/plain": [
       "array(['GAIA DRI', 'stochastic gradient', 'gaussian processes',\n",
       "       'databases', 'HTML5, CSS, javascript,GitHub pages', 'autodiff'], \n",
       "      dtype='|S35')"
      ]
     },
     "execution_count": 40,
     "metadata": {},
     "output_type": "execute_result"
    }
   ],
   "source": [
    "breakouts = find_breakouts(teach, learn)\n",
    "breakouts"
   ]
  },
  {
   "cell_type": "markdown",
   "metadata": {},
   "source": [
    "## Graphs"
   ]
  },
  {
   "cell_type": "code",
   "execution_count": 41,
   "metadata": {
    "collapsed": false
   },
   "outputs": [],
   "source": [
    "for u,e,l,t in zip(users, emails, learn, teach):\n",
    "    insert_node(u, email=e, learn=l.split(';'), teach=t.split(';'))"
   ]
  },
  {
   "cell_type": "code",
   "execution_count": 44,
   "metadata": {
    "collapsed": false
   },
   "outputs": [],
   "source": [
    "participants = G.nodes(data=True)"
   ]
  },
  {
   "cell_type": "code",
   "execution_count": 45,
   "metadata": {
    "collapsed": false
   },
   "outputs": [],
   "source": [
    "def assign_users():\n",
    "    \"\"\"\n",
    "    This uses LOTS of nested loops. Work to be done here.\n",
    "    \"\"\"\n",
    "    assign = {}\n",
    "    i=0\n",
    "    for p in participants:\n",
    "        assign_p = {}\n",
    "        for l in p[1]['learn']:\n",
    "            if l in breakouts:\n",
    "                assign_p[l] = 'breakout'\n",
    "            else:\n",
    "                edges = G.edges(p[0], data=True)\n",
    "                for e in edges:\n",
    "                    if (l in e[2]['common']) and (l!=''):\n",
    "                        assign_p[l] = e[1]\n",
    "                    else: \n",
    "                        pass\n",
    "        assign[p[0]] = assign_p\n",
    "        i+=1\n",
    "        \n",
    "    return assign"
   ]
  },
  {
   "cell_type": "code",
   "execution_count": 47,
   "metadata": {
    "collapsed": false
   },
   "outputs": [],
   "source": [
    "assign = assign_users()"
   ]
  },
  {
   "cell_type": "code",
   "execution_count": 48,
   "metadata": {
    "collapsed": false
   },
   "outputs": [],
   "source": [
    "G_new = nx.DiGraph()"
   ]
  },
  {
   "cell_type": "code",
   "execution_count": 49,
   "metadata": {
    "collapsed": false
   },
   "outputs": [],
   "source": [
    "G_new.add_nodes_from(participants)"
   ]
  },
  {
   "cell_type": "code",
   "execution_count": 50,
   "metadata": {
    "collapsed": false
   },
   "outputs": [],
   "source": [
    "for p in G_new.nodes():\n",
    "    mappings = assign[p]\n",
    "    for m in mappings.keys():\n",
    "        G_new.add_edge(p, mappings[m], label=m)"
   ]
  },
  {
   "cell_type": "code",
   "execution_count": 51,
   "metadata": {
    "collapsed": false
   },
   "outputs": [
    {
     "data": {
      "text/plain": [
       "'/var/folders/pc/lq5slw9x3f92zfnsfvj0n82h0000gn/T/nx_Rv4jHu.png'"
      ]
     },
     "execution_count": 51,
     "metadata": {},
     "output_type": "execute_result"
    }
   ],
   "source": [
    "pos=nx.spring_layout(G_new)\n",
    "draw(G_new)"
   ]
  }
 ],
 "metadata": {
  "kernelspec": {
   "display_name": "Python 2",
   "language": "python",
   "name": "python2"
  },
  "language_info": {
   "codemirror_mode": {
    "name": "ipython",
    "version": 2
   },
   "file_extension": ".py",
   "mimetype": "text/x-python",
   "name": "python",
   "nbconvert_exporter": "python",
   "pygments_lexer": "ipython2",
   "version": "2.7.10"
  }
 },
 "nbformat": 4,
 "nbformat_minor": 0
}
